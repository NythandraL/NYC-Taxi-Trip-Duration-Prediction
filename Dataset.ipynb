{
 "cells": [
  {
   "cell_type": "markdown",
   "metadata": {
    "colab_type": "text",
    "id": "7eR342icOuX3"
   },
   "source": [
    "**Combine csv files into one hdf5 dataset. Location coordinates are added.**"
   ]
  },
  {
   "cell_type": "code",
   "execution_count": null,
   "metadata": {
    "colab": {
     "base_uri": "https://localhost:8080/",
     "height": 207
    },
    "colab_type": "code",
    "id": "QfjHS8lJOUBb",
    "outputId": "4ba6968b-ee9b-4347-f6ec-5080234baa07"
   },
   "outputs": [],
   "source": [
    "!pip install -U tables\n",
    "import pandas as pd\n",
    "import numpy as np\n",
    "import json\n",
    "import os"
   ]
  },
  {
   "cell_type": "code",
   "execution_count": null,
   "metadata": {
    "colab": {
     "base_uri": "https://localhost:8080/",
     "height": 122
    },
    "colab_type": "code",
    "id": "EeBs70yCOcL2",
    "outputId": "ea8b4420-ad67-46e7-c13c-75d7494561a6"
   },
   "outputs": [],
   "source": [
    "from google.colab import drive\n",
    "drive.mount('/content/gdrive')"
   ]
  },
  {
   "cell_type": "code",
   "execution_count": null,
   "metadata": {
    "colab": {},
    "colab_type": "code",
    "id": "Qt4vNZ-CPIcu"
   },
   "outputs": [],
   "source": [
    "dataset_root = '/content/gdrive/My Drive/TaxiData'"
   ]
  },
  {
   "cell_type": "code",
   "execution_count": null,
   "metadata": {
    "colab": {},
    "colab_type": "code",
    "id": "A5o8ZPE6OhWl"
   },
   "outputs": [],
   "source": [
    "cx_map = json.load(open(os.path.join(dataset_root, 'cx.json')))\n",
    "cy_map = json.load(open(os.path.join(dataset_root, 'cy.json')))\n",
    "cx_map = {int(k): v for k, v in cx_map.items()}\n",
    "cy_map = {int(k): v for k, v in cy_map.items()}"
   ]
  },
  {
   "cell_type": "code",
   "execution_count": null,
   "metadata": {
    "colab": {},
    "colab_type": "code",
    "id": "XMp5GKgeOjHY"
   },
   "outputs": [],
   "source": [
    "def load_all(root):\n",
    "  with open(os.path.join(root, 'manifest.txt')) as f:\n",
    "    files = f.readlines()\n",
    "  files = map(lambda filename: os.path.join(root, filename.strip()), files)\n",
    "  frames = list(map(pd.read_csv, files))\n",
    "  dataset = pd.concat(frames, ignore_index=True)\n",
    "  dataset['PULocationX'] = dataset['PULocationID'].map(lambda v: cx_map[v])\n",
    "  dataset['PULocationY'] = dataset['PULocationID'].map(lambda v: cy_map[v])\n",
    "  dataset['DOLocationX'] = dataset['DOLocationID'].map(lambda v: cx_map[v])\n",
    "  dataset['DOLocationY'] = dataset['DOLocationID'].map(lambda v: cy_map[v])\n",
    "  return dataset"
   ]
  },
  {
   "cell_type": "code",
   "execution_count": null,
   "metadata": {
    "colab": {
     "base_uri": "https://localhost:8080/",
     "height": 255
    },
    "colab_type": "code",
    "id": "CtBJk4-SOtKc",
    "outputId": "fef85fcf-598d-4d9f-ae47-1b05d61669cc"
   },
   "outputs": [],
   "source": [
    "dataset = load_all(os.path.join(dataset_root, 'TaxiData.zip (Unzipped Files)'))\n",
    "print(dataset)\n",
    "dataset.to_hdf(os.path.join(dataset_root, 'data.h5'),'df')"
   ]
  }
 ],
 "metadata": {
  "colab": {
   "collapsed_sections": [],
   "machine_shape": "hm",
   "name": "Dataset.ipynb",
   "provenance": []
  },
  "kernelspec": {
   "display_name": "Python 3",
   "language": "python",
   "name": "python3"
  },
  "language_info": {
   "codemirror_mode": {
    "name": "ipython",
    "version": 3
   },
   "file_extension": ".py",
   "mimetype": "text/x-python",
   "name": "python",
   "nbconvert_exporter": "python",
   "pygments_lexer": "ipython3",
   "version": "3.7.4"
  }
 },
 "nbformat": 4,
 "nbformat_minor": 1
}
